{
 "cells": [
  {
   "cell_type": "code",
   "execution_count": null,
   "id": "cbb2819f-014b-4b77-8959-7de2b3a3400d",
   "metadata": {},
   "outputs": [],
   "source": []
  }
 ],
 "metadata": {
  "kernelspec": {
   "display_name": "Python 3 (ipykernel)",
   "language": "python",
   "name": "python3"
  },
  "language_info": {
   "name": ""
  }
 },
 "nbformat": 4,
 "nbformat_minor": 5
}
